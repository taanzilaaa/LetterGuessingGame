{
  "nbformat": 4,
  "nbformat_minor": 0,
  "metadata": {
    "colab": {
      "provenance": []
    },
    "kernelspec": {
      "name": "python3",
      "display_name": "Python 3"
    },
    "language_info": {
      "name": "python"
    }
  },
  "cells": [
    {
      "cell_type": "code",
      "execution_count": 4,
      "metadata": {
        "colab": {
          "base_uri": "https://localhost:8080/"
        },
        "id": "HsdqMFzkyeRc",
        "outputId": "33aac731-c107-47d9-8609-f9c5dd4439c1"
      },
      "outputs": [
        {
          "output_type": "stream",
          "name": "stdout",
          "text": [
            "Guess the letter (between A and Z): z\n",
            "Too high! Try again.\n",
            "Guess the letter (between A and Z): Y\n",
            "Too high! Try again.\n",
            "Guess the letter (between A and Z): X\n",
            "Too high! Try again.\n",
            "Guess the letter (between A and Z): W\n",
            "Too high! Try again.\n",
            "Guess the letter (between A and Z): V\n",
            "Too high! Try again.\n",
            "Guess the letter (between A and Z): H\n",
            "Too low! Try again.\n",
            "Guess the letter (between A and Z): I\n",
            "Too low! Try again.\n",
            "Guess the letter (between A and Z): J\n",
            "Too low! Try again.\n",
            "Guess the letter (between A and Z): K\n",
            "Congratulations! You guessed the letter correctly.\n",
            "Number of attempts: 9\n"
          ]
        }
      ],
      "source": [
        "import random\n",
        "\n",
        "letter= ['A','B','C','D','E','F','G','H','I','J','K','L','M','N','O','P','Q','R','S','T','U','V','W','X','Y','Z']\n",
        "val=random.choice(letter)\n",
        "attempts = 0\n",
        "\n",
        "while True:\n",
        "    guess = input(\"Guess the letter (between A and Z): \")\n",
        "    attempts += 1\n",
        "\n",
        "    if guess == val:\n",
        "        print(\"Congratulations! You guessed the letter correctly.\")\n",
        "        print(\"Number of attempts:\", attempts)\n",
        "        break\n",
        "    elif guess>val:\n",
        "        print(\"Too high! Try again.\")\n",
        "    else:\n",
        "        print(\"Too low! Try again.\")\n"
      ]
    }
  ]
}